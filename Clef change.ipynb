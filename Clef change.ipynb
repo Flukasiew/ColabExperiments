{
 "cells": [
  {
   "cell_type": "markdown",
   "metadata": {},
   "source": [
    "## Dostosowanie wysokości dźwięków w przypadku odczytywania notacji w kluczu basowym f - postprocessing lilyponda"
   ]
  },
  {
   "cell_type": "code",
   "execution_count": 55,
   "metadata": {},
   "outputs": [],
   "source": [
    "import re\n",
    "\n",
    "pitches = [\"c,\",\"d,\",\"e,\",\"f,\",\"g,\",\"a,\",\"b,\", \\\n",
    "           \"c\",\"d\",\"e\",\"f\",\"g\",\"a\",\"b\", \\\n",
    "           \"c'\",\"d'\",\"e'\",\"f'\",\"g'\",\"a'\",\"b'\", \\\n",
    "           \"c''\",\"d''\",\"e''\",\"f''\",\"g''\",\"a''\",\"b''\", \\\n",
    "           \"c'''\"]"
   ]
  },
  {
   "cell_type": "code",
   "execution_count": 58,
   "metadata": {},
   "outputs": [],
   "source": [
    "# bierze pojedynczą nutę w formacie lilypond string, zwraca tę nutę dostosowaną z klucza basowego f\n",
    "def AdjustFromBassNotation(note):\n",
    "    pitch = re.findall(r'[^\\d]+', note)[0]\n",
    "    duration = re.findall(r'\\d+', note)[0]\n",
    "    \n",
    "    index = pitches.index(pitch)\n",
    "    \n",
    "    return pitches[index-12]+duration"
   ]
  },
  {
   "cell_type": "code",
   "execution_count": 62,
   "metadata": {},
   "outputs": [
    {
     "name": "stdout",
     "output_type": "stream",
     "text": [
      "e'4\n",
      "g8\n",
      "f,16\n"
     ]
    }
   ],
   "source": [
    "print(AdjustFromBassNotation(\"c'''4\"))\n",
    "print(AdjustFromBassNotation(\"e''8\"))\n",
    "print(AdjustFromBassNotation(\"d'16\"))\n"
   ]
  }
 ],
 "metadata": {
  "kernelspec": {
   "display_name": "Python 3",
   "language": "python",
   "name": "python3"
  },
  "language_info": {
   "codemirror_mode": {
    "name": "ipython",
    "version": 3
   },
   "file_extension": ".py",
   "mimetype": "text/x-python",
   "name": "python",
   "nbconvert_exporter": "python",
   "pygments_lexer": "ipython3",
   "version": "3.8.3"
  }
 },
 "nbformat": 4,
 "nbformat_minor": 4
}
