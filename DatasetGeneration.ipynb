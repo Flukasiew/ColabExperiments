{
  "nbformat": 4,
  "nbformat_minor": 0,
  "metadata": {
    "colab": {
      "name": "DatasetGeneration.ipynb",
      "provenance": [],
      "authorship_tag": "ABX9TyNFS7MKhUaPtNHYQ3D5+f32",
      "include_colab_link": true
    },
    "kernelspec": {
      "name": "python3",
      "display_name": "Python 3"
    }
  },
  "cells": [
    {
      "cell_type": "markdown",
      "metadata": {
        "id": "view-in-github",
        "colab_type": "text"
      },
      "source": [
        "<a href=\"https://colab.research.google.com/github/Flukasiew/ColabExperiments/blob/master/DatasetGeneration.ipynb\" target=\"_parent\"><img src=\"https://colab.research.google.com/assets/colab-badge.svg\" alt=\"Open In Colab\"/></a>"
      ]
    },
    {
      "cell_type": "markdown",
      "metadata": {
        "id": "TIRLSlo0ODzY",
        "colab_type": "text"
      },
      "source": [
        "Znalazlem dwie interesujace Biblioteki dotyczace generowanie muzyki w roznych formatach."
      ]
    },
    {
      "cell_type": "code",
      "metadata": {
        "id": "rOtBZ-2BN_jx",
        "colab_type": "code",
        "colab": {
          "base_uri": "https://localhost:8080/",
          "height": 75
        },
        "outputId": "bec3010f-cb71-4727-e0a4-2e872953393a"
      },
      "source": [
        "!pip install mingus \n",
        "!pip install python-ly"
      ],
      "execution_count": 11,
      "outputs": [
        {
          "output_type": "stream",
          "text": [
            "Requirement already satisfied: mingus in /usr/local/lib/python3.6/dist-packages (0.6.0)\n",
            "Requirement already satisfied: six in /usr/local/lib/python3.6/dist-packages (from mingus) (1.15.0)\n",
            "Requirement already satisfied: python-ly in /usr/local/lib/python3.6/dist-packages (0.9.6)\n"
          ],
          "name": "stdout"
        }
      ]
    },
    {
      "cell_type": "code",
      "metadata": {
        "id": "oHhAxSbfOzJ7",
        "colab_type": "code",
        "colab": {
          "base_uri": "https://localhost:8080/",
          "height": 36
        },
        "outputId": "3fc577ae-e5ec-41e9-fab8-d39f287847ed"
      },
      "source": [
        "import mingus.extra.lilypond as LilyPond\n",
        "from mingus.containers.bar import Bar\n",
        "b = Bar()\n",
        "b + \"C\"\n",
        "b + \"E\"\n",
        "b + \"G\"\n",
        "b + \"B\"\n",
        "bar = LilyPond.from_Bar(b)\n",
        "LilyPond.to_png(bar, \"my_first_bar\") # it can here create png "
      ],
      "execution_count": 20,
      "outputs": [
        {
          "output_type": "stream",
          "text": [
            "Executing: lilypond -fpng -o \"my_first_bar\" \"my_first_bar.ly\"\n"
          ],
          "name": "stdout"
        }
      ]
    },
    {
      "cell_type": "markdown",
      "metadata": {
        "id": "TiyLQ99bRBPL",
        "colab_type": "text"
      },
      "source": [
        "Problem to brak programu  w colabie lilypond ale spokojnie jest do zrobienia.\n",
        "\n",
        "mingus pozwala na generowanie z takiego ciagu zarowno midi jak i png.\n",
        "\n",
        "python-ly pozwala generowac music-xml z LilyPond stringow\n",
        "\n",
        "Wiec jesli zdecydujemy sie na zakres dzwiekow ktory chcemy miec w zbiorze moge zabrac sie za pisanie jakiegos generatora a potem \"filtrow\" na te png "
      ]
    },
    {
      "cell_type": "code",
      "metadata": {
        "id": "YNg74YQQRToC",
        "colab_type": "code",
        "colab": {}
      },
      "source": [
        ""
      ],
      "execution_count": null,
      "outputs": []
    }
  ]
}