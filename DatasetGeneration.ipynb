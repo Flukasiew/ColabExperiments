{
 "cells": [
  {
   "cell_type": "markdown",
   "metadata": {
    "colab_type": "text",
    "id": "view-in-github"
   },
   "source": [
    "<a href=\"https://colab.research.google.com/github/Flukasiew/ColabExperiments/blob/master/DatasetGeneration.ipynb\" target=\"_parent\"><img src=\"https://colab.research.google.com/assets/colab-badge.svg\" alt=\"Open In Colab\"/></a>"
   ]
  },
  {
   "cell_type": "markdown",
   "metadata": {
    "colab_type": "text",
    "id": "TIRLSlo0ODzY"
   },
   "source": [
    "Znalazlem dwie interesujace Biblioteki dotyczace generowanie muzyki w roznych formatach."
   ]
  },
  {
   "cell_type": "code",
   "execution_count": 1,
   "metadata": {
    "colab": {
     "base_uri": "https://localhost:8080/",
     "height": 75
    },
    "colab_type": "code",
    "id": "rOtBZ-2BN_jx",
    "outputId": "bec3010f-cb71-4727-e0a4-2e872953393a"
   },
   "outputs": [
    {
     "name": "stdout",
     "output_type": "stream",
     "text": [
      "Requirement already satisfied: mingus in /home/fef/anaconda3/lib/python3.8/site-packages (0.6.0)\n",
      "Requirement already satisfied: six in /home/fef/anaconda3/lib/python3.8/site-packages (from mingus) (1.15.0)\n",
      "Requirement already satisfied: python-ly in /home/fef/anaconda3/lib/python3.8/site-packages (0.9.6)\n"
     ]
    }
   ],
   "source": [
    "!pip install mingus \n",
    "!pip install python-ly"
   ]
  },
  {
   "cell_type": "code",
   "execution_count": 39,
   "metadata": {
    "colab": {
     "base_uri": "https://localhost:8080/",
     "height": 36
    },
    "colab_type": "code",
    "id": "oHhAxSbfOzJ7",
    "outputId": "3fc577ae-e5ec-41e9-fab8-d39f287847ed"
   },
   "outputs": [
    {
     "name": "stdout",
     "output_type": "stream",
     "text": [
      "Executing: lilypond -fpng -o \"my_first_bar\" \"my_first_bar.ly\"\n"
     ]
    },
    {
     "data": {
      "text/plain": [
       "True"
      ]
     },
     "execution_count": 39,
     "metadata": {},
     "output_type": "execute_result"
    }
   ],
   "source": [
    "import mingus.extra.lilypond as LilyPond\n",
    "from mingus.containers.bar import Bar\n",
    "b = Bar()\n",
    "b + \"C\"\n",
    "b + \"E\"\n",
    "b + \"G\"\n",
    "b + \"B\"\n",
    "bar = LilyPond.from_Bar(b)\n",
    "LilyPond.to_png(bar, \"my_first_bar\") # it can here create png "
   ]
  },
  {
   "cell_type": "code",
   "execution_count": 60,
   "metadata": {},
   "outputs": [
    {
     "data": {
      "text/plain": [
       "(4, 4)"
      ]
     },
     "execution_count": 60,
     "metadata": {},
     "output_type": "execute_result"
    }
   ],
   "source": [
    "bar.key"
   ]
  },
  {
   "cell_type": "code",
   "execution_count": 15,
   "metadata": {},
   "outputs": [
    {
     "data": {
      "image/png": "[encoded data removed]",
      "text/plain": [
       "<Figure size 432x288 with 1 Axes>"
      ]
     },
     "metadata": {
      "needs_background": "light"
     },
     "output_type": "display_data"
    }
   ],
   "source": [
    "import matplotlib.pyplot as plt\n",
    "import matplotlib.image as mpimg\n",
    "img = mpimg.imread('my_first_bar.png')\n",
    "Generate\n",
    "imgplot = plt.imshow(img)\n",
    "plt.show()"
   ]
  },
  {
   "cell_type": "markdown",
   "metadata": {
    "colab_type": "text",
    "id": "TiyLQ99bRBPL"
   },
   "source": [
    "Problem to brak programu  w colabie lilypond ale spokojnie jest do zrobienia.\n",
    "\n",
    "mingus pozwala na generowanie z takiego ciagu zarowno midi jak i png.\n",
    "\n",
    "python-ly pozwala generowac music-xml z LilyPond stringow\n",
    "\n",
    "Wiec jesli zdecydujemy sie na zakres dzwiekow ktory chcemy miec w zbiorze moge zabrac sie za pisanie jakiegos generatora a potem \"filtrow\" na te png \n",
    "\n",
    "PRÓBAAAA"
   ]
  },
  {
   "cell_type": "markdown",
   "metadata": {
    "colab": {},
    "colab_type": "code",
    "id": "YNg74YQQRToC"
   },
   "source": [
    "## Zabawy Janusza"
   ]
  },
  {
   "cell_type": "code",
   "execution_count": 188,
   "metadata": {},
   "outputs": [],
   "source": [
    "import mingus.core.notes as notes\n",
    "from mingus.containers import Note, NoteContainer, Bar, Track\n",
    "import random"
   ]
  },
  {
   "cell_type": "markdown",
   "metadata": {},
   "source": [
    "### Generowanie melodii"
   ]
  },
  {
   "cell_type": "code",
   "execution_count": 43,
   "metadata": {},
   "outputs": [],
   "source": [
    "allNotesM = [\"G-3\", \"A-3\", \"B-3\", \"C-4\", \"D-4\",\"E-4\", \"F-4\", \"G-4\", \"A-4\", \"B-4\", \"C-5\", \"D-5\", \"E-5\", \"F-5\", \"G-5\", \"A-5\", \"B-5\", \"C-6\" ]\n",
    "lenAllNotesM = len(allNotesM)\n",
    "largestInterval = 4"
   ]
  },
  {
   "cell_type": "code",
   "execution_count": 44,
   "metadata": {},
   "outputs": [],
   "source": [
    "# jeśli before=-1 -> pierwsza nuta\n",
    "def newNoteIndexM(before):\n",
    "    if before==-1:\n",
    "        return random.randint(0,lenAllNotesM-1)\n",
    "    \n",
    "    if before<largestInterval:\n",
    "        return random.randint(0,largestInterval)\n",
    "    \n",
    "    if before>lenAllNotesM-largestInterval-1:\n",
    "        return random.randint(lenAllNotesM-largestInterval, lenAllNotesM-1)\n",
    "        \n",
    "    return random.randint(before-largestInterval,before+largestInterval-1)"
   ]
  },
  {
   "cell_type": "code",
   "execution_count": 45,
   "metadata": {},
   "outputs": [],
   "source": [
    "# dla length>0\n",
    "def newNoteIndexListM(length):\n",
    "    prev = newNoteIndexM(-1)\n",
    "    melody = [prev]\n",
    "    for i in range(1,length):\n",
    "        prev = newNoteIndexM(prev)\n",
    "        melody.append(prev)\n",
    "    return melody"
   ]
  },
  {
   "cell_type": "code",
   "execution_count": 46,
   "metadata": {},
   "outputs": [],
   "source": [
    "def newBarMelody(length):\n",
    "    return [Note(allNotesM[a]) for a in newNoteIndexListM(length)]"
   ]
  },
  {
   "cell_type": "code",
   "execution_count": 47,
   "metadata": {},
   "outputs": [
    {
     "data": {
      "text/plain": [
       "['A-4', 'D-4', 'G-4', 'D-4', 'C-4', 'G-3', 'A-3', 'C-4']"
      ]
     },
     "execution_count": 47,
     "metadata": {},
     "output_type": "execute_result"
    }
   ],
   "source": [
    "newBarMelody(8)"
   ]
  },
  {
   "cell_type": "markdown",
   "metadata": {},
   "source": [
    "### Generowanie rytmu"
   ]
  },
  {
   "cell_type": "code",
   "execution_count": 48,
   "metadata": {},
   "outputs": [],
   "source": [
    "allNotesBeat = [0.5, 0.5, 1, 1, 1, 1, 2, 2, 4]\n",
    "lenAllNotesBeat = len(allNotesBeat)"
   ]
  },
  {
   "cell_type": "code",
   "execution_count": 49,
   "metadata": {},
   "outputs": [],
   "source": [
    "def newBarRhythm(beats):\n",
    "    rhythm = []\n",
    "    already=0\n",
    "    \n",
    "    while already < beats:\n",
    "        last = 0\n",
    "        isFound=False\n",
    "        while not isFound:\n",
    "            found = allNotesBeat[random.randint(last,lenAllNotesBeat-1)]\n",
    "            if already+found<=beats:\n",
    "                isFound = True\n",
    "                already+=found\n",
    "                rhythm.append(found)\n",
    "    return rhythm"
   ]
  },
  {
   "cell_type": "code",
   "execution_count": 50,
   "metadata": {},
   "outputs": [
    {
     "data": {
      "text/plain": [
       "[0.5, 0.5, 0.5, 1, 1, 0.5]"
      ]
     },
     "execution_count": 50,
     "metadata": {},
     "output_type": "execute_result"
    }
   ],
   "source": [
    "newBarRhythm(4)"
   ]
  },
  {
   "cell_type": "markdown",
   "metadata": {},
   "source": [
    "### Generowanie taktu"
   ]
  },
  {
   "cell_type": "code",
   "execution_count": 139,
   "metadata": {},
   "outputs": [],
   "source": [
    "def GenerateBar(beats):\n",
    "    b = Bar(meter=(beats,4))\n",
    "    nc = NoteContainer()\n",
    "    rhythm = newBarRhythm(beats)\n",
    "    melody = newBarMelody(len(rhythm))\n",
    "    for ii in range(0,len(rhythm)):\n",
    "        b.place_notes(melody[ii], 4/rhythm[ii])\n",
    "    \n",
    "    return b"
   ]
  },
  {
   "cell_type": "code",
   "execution_count": null,
   "metadata": {},
   "outputs": [],
   "source": []
  },
  {
   "cell_type": "markdown",
   "metadata": {},
   "source": [
    "## Pozbycie sie \"Clef\" oraz \"TimeSignature\" z png"
   ]
  },
  {
   "cell_type": "code",
   "execution_count": 149,
   "metadata": {},
   "outputs": [],
   "source": [
    "bar = GenerateBar(4)"
   ]
  },
  {
   "cell_type": "code",
   "execution_count": 150,
   "metadata": {},
   "outputs": [
    {
     "data": {
      "text/plain": [
       "mingus.containers.bar.Bar"
      ]
     },
     "execution_count": 150,
     "metadata": {},
     "output_type": "execute_result"
    }
   ],
   "source": [
    "type(bar)"
   ]
  },
  {
   "cell_type": "code",
   "execution_count": 151,
   "metadata": {},
   "outputs": [
    {
     "data": {
      "text/plain": [
       "[[0.0, 4.0, ['C-5']], [0.25, 8.0, ['B-4']], [0.375, 8.0, ['A-4']], [0.5, 4.0, ['D-4']], [0.75, 4.0, ['E-4']]]"
      ]
     },
     "execution_count": 151,
     "metadata": {},
     "output_type": "execute_result"
    }
   ],
   "source": [
    "bar"
   ]
  },
  {
   "cell_type": "code",
   "execution_count": 152,
   "metadata": {},
   "outputs": [],
   "source": [
    "bar_string = LilyPond.from_Bar(bar)"
   ]
  },
  {
   "cell_type": "code",
   "execution_count": 153,
   "metadata": {},
   "outputs": [
    {
     "data": {
      "text/plain": [
       "\"{ \\\\time 4/4 \\\\key c \\\\major c''4 b'8 a'8 d'4 e'4 }\""
      ]
     },
     "execution_count": 153,
     "metadata": {},
     "output_type": "execute_result"
    }
   ],
   "source": [
    "bar_string"
   ]
  },
  {
   "cell_type": "code",
   "execution_count": 154,
   "metadata": {},
   "outputs": [],
   "source": [
    "delete_clef_string = \" \\n \\override Staff.Clef.color = #white \\n \\override Staff.Clef.layer = #-1\"\n",
    "delete_time_string = \" \\n \\override Staff.TimeSignature.color = #white \\n \\override Staff.TimeSignature.layer = #-1\"  "
   ]
  },
  {
   "cell_type": "code",
   "execution_count": 155,
   "metadata": {},
   "outputs": [],
   "source": [
    "bar_string = bar_string[0] + delete_clef_string + delete_time_string+ bar_string[1:]"
   ]
  },
  {
   "cell_type": "code",
   "execution_count": 156,
   "metadata": {},
   "outputs": [
    {
     "data": {
      "text/plain": [
       "\"{ \\n \\\\override Staff.Clef.color = #white \\n \\\\override Staff.Clef.layer = #-1 \\n \\\\override Staff.TimeSignature.color = #white \\n \\\\override Staff.TimeSignature.layer = #-1 \\\\time 4/4 \\\\key c \\\\major c''4 b'8 a'8 d'4 e'4 }\""
      ]
     },
     "execution_count": 156,
     "metadata": {},
     "output_type": "execute_result"
    }
   ],
   "source": [
    "bar_string"
   ]
  },
  {
   "cell_type": "code",
   "execution_count": 157,
   "metadata": {},
   "outputs": [
    {
     "name": "stdout",
     "output_type": "stream",
     "text": [
      "Executing: lilypond -fpng -o \"my_first_bar\" \"my_first_bar.ly\"\n"
     ]
    },
    {
     "data": {
      "text/plain": [
       "True"
      ]
     },
     "execution_count": 157,
     "metadata": {},
     "output_type": "execute_result"
    }
   ],
   "source": [
    "LilyPond.to_png(bar_string, \"my_first_bar\") # it can here create png "
   ]
  },
  {
   "cell_type": "markdown",
   "metadata": {},
   "source": [
    "## Generating cropped png"
   ]
  },
  {
   "cell_type": "code",
   "execution_count": 174,
   "metadata": {},
   "outputs": [],
   "source": [
    "import subprocess\n",
    "import os"
   ]
  },
  {
   "cell_type": "code",
   "execution_count": 175,
   "metadata": {},
   "outputs": [],
   "source": [
    "def GenerateCropped(ly_string, filename, command='-fpng'):\n",
    "    \"\"\"Generates cropped PNG it is slightly changed version of minugs save_string_and_execute_LilyPond function\"\"\"\n",
    "    ly_string = '\\\\version \"2.10.33\"\\n' + ly_string\n",
    "    if filename[-4] in ['.pdf' or '.png']:\n",
    "        filename = filename[:-4]\n",
    "    try:\n",
    "        f = open(filename + '.ly', 'w')\n",
    "        f.write(ly_string)\n",
    "        f.close()\n",
    "    except:\n",
    "        return False\n",
    "    command = 'lilypond -dpreview %s -o \"%s\" \"%s.ly\"' % (command, filename, filename)\n",
    "    print('Executing: %s' % command)\n",
    "    p = subprocess.Popen(command, shell=True).wait()\n",
    "    os.remove(filename + '.ly')\n",
    "    return True"
   ]
  },
  {
   "cell_type": "code",
   "execution_count": 172,
   "metadata": {},
   "outputs": [
    {
     "name": "stdout",
     "output_type": "stream",
     "text": [
      "Executing: lilypond -dpreview -fpng -o \"my_first_bar\" \"my_first_bar.ly\"\n"
     ]
    },
    {
     "data": {
      "text/plain": [
       "True"
      ]
     },
     "execution_count": 172,
     "metadata": {},
     "output_type": "execute_result"
    }
   ],
   "source": [
    "GenerateCropped(bar_string, \"my_first_bar\")"
   ]
  },
  {
   "cell_type": "code",
   "execution_count": null,
   "metadata": {},
   "outputs": [],
   "source": []
  },
  {
   "cell_type": "code",
   "execution_count": 216,
   "metadata": {},
   "outputs": [],
   "source": [
    "from random import uniform, choices\n",
    "def GenerateRandomTrack():\n",
    "    line_len = int(uniform(3,8))\n",
    "    meter = choices([3,4], [0.25,0.75])[0]\n",
    "    track = Track()\n",
    "    for i in range(line_len):\n",
    "        track.add_bar(GenerateBar(meter))\n",
    "    \n",
    "    return track"
   ]
  },
  {
   "cell_type": "code",
   "execution_count": 217,
   "metadata": {},
   "outputs": [
    {
     "data": {
      "text/plain": [
       "True"
      ]
     },
     "execution_count": 217,
     "metadata": {},
     "output_type": "execute_result"
    }
   ],
   "source": [
    "t = GenerateRandomLine()\n",
    "t.test_integrity()"
   ]
  },
  {
   "cell_type": "code",
   "execution_count": 218,
   "metadata": {},
   "outputs": [
    {
     "data": {
      "text/plain": [
       "\"{ \\n \\\\override Staff.Clef.color = #white \\n \\\\override Staff.Clef.layer = #-1 \\n \\\\override Staff.TimeSignature.color = #white \\n \\\\override Staff.TimeSignature.layer = #-1 { b''1 } { f''4 e''8 e''4 g''8 b''4 } { c'1 } { f'2 d'2 } { e'4 g'4 f'8 f'4 d'8 } { g4 c'8 a2 g8 } { b''8 a''4 b''2 a''8 } }\""
      ]
     },
     "execution_count": 218,
     "metadata": {},
     "output_type": "execute_result"
    }
   ],
   "source": [
    "t_string = LilyPond.from_Track(t)\n",
    "t_string = t_string[0] + delete_clef_string + delete_time_string+ t_string[1:]\n",
    "t_string"
   ]
  },
  {
   "cell_type": "code",
   "execution_count": 219,
   "metadata": {},
   "outputs": [
    {
     "name": "stdout",
     "output_type": "stream",
     "text": [
      "Executing: lilypond -dpreview -fpng -o \"my_first_track\" \"my_first_track.ly\"\n"
     ]
    },
    {
     "data": {
      "text/plain": [
       "True"
      ]
     },
     "execution_count": 219,
     "metadata": {},
     "output_type": "execute_result"
    }
   ],
   "source": [
    "GenerateCropped(t_string,\"my_first_track\")"
   ]
  }
 ],
 "metadata": {
  "colab": {
   "include_colab_link": true,
   "name": "DatasetGeneration.ipynb",
   "provenance": []
  },
  "kernelspec": {
   "display_name": "Python 3",
   "language": "python",
   "name": "python3"
  },
  "language_info": {
   "codemirror_mode": {
    "name": "ipython",
    "version": 3
   },
   "file_extension": ".py",
   "mimetype": "text/x-python",
   "name": "python",
   "nbconvert_exporter": "python",
   "pygments_lexer": "ipython3",
   "version": "3.8.3"
  }
 },
 "nbformat": 4,
 "nbformat_minor": 1
}
