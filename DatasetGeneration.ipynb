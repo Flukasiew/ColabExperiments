{
  "nbformat": 4,
  "nbformat_minor": 0,
  "metadata": {
    "colab": {
      "name": "DatasetGeneration.ipynb",
      "provenance": [],
      "include_colab_link": true
    },
    "kernelspec": {
      "display_name": "Python 3",
      "language": "python",
      "name": "python3"
    },
    "language_info": {
      "codemirror_mode": {
        "name": "ipython",
        "version": 3
      },
      "file_extension": ".py",
      "mimetype": "text/x-python",
      "name": "python",
      "nbconvert_exporter": "python",
      "pygments_lexer": "ipython3",
      "version": "3.8.5"
    }
  },
  "cells": [
    {
      "cell_type": "markdown",
      "metadata": {
        "id": "view-in-github",
        "colab_type": "text"
      },
      "source": [
        "<a href=\"https://colab.research.google.com/github/Flukasiew/ColabExperiments/blob/master/DatasetGeneration.ipynb\" target=\"_parent\"><img src=\"https://colab.research.google.com/assets/colab-badge.svg\" alt=\"Open In Colab\"/></a>"
      ]
    },
    {
      "cell_type": "markdown",
      "metadata": {
        "id": "TIRLSlo0ODzY"
      },
      "source": [
        "Znalazlem dwie interesujace Biblioteki dotyczace generowanie muzyki w roznych formatach."
      ]
    },
    {
      "cell_type": "code",
      "metadata": {
        "id": "rOtBZ-2BN_jx",
        "outputId": "bec3010f-cb71-4727-e0a4-2e872953393a",
        "colab": {
          "base_uri": "https://localhost:8080/",
          "height": 75
        }
      },
      "source": [
        "!pip install mingus \n",
        "!pip install python-ly"
      ],
      "execution_count": null,
      "outputs": [
        {
          "output_type": "stream",
          "text": [
            "Defaulting to user installation because normal site-packages is not writeable\n",
            "Collecting mingus\n",
            "  Using cached mingus-0.6.0-py2.py3-none-any.whl (139 kB)\n",
            "Requirement already satisfied: six in /usr/lib/python3.8/site-packages (from mingus) (1.15.0)\n",
            "Installing collected packages: mingus\n",
            "Successfully installed mingus-0.6.0\n",
            "Defaulting to user installation because normal site-packages is not writeable\n",
            "Processing /home/fef/.cache/pip/wheels/00/49/9a/0aac27e3b082312c52f8f21d8fa639b302fc09d89858f0f2ff/python_ly-0.9.6-py3-none-any.whl\n",
            "Installing collected packages: python-ly\n",
            "Successfully installed python-ly-0.9.6\n"
          ],
          "name": "stdout"
        }
      ]
    },
    {
      "cell_type": "code",
      "metadata": {
        "id": "oHhAxSbfOzJ7",
        "outputId": "3fc577ae-e5ec-41e9-fab8-d39f287847ed",
        "colab": {
          "base_uri": "https://localhost:8080/",
          "height": 36
        }
      },
      "source": [
        "import mingus.extra.lilypond as LilyPond\n",
        "from mingus.containers.bar import Bar\n",
        "b = Bar()\n",
        "b + \"C\"\n",
        "b + \"E\"\n",
        "b + \"G\"\n",
        "b + \"B\"\n",
        "bar = LilyPond.from_Bar(b)\n",
        "LilyPond.to_png(bar, \"Users\\my_first_bar\") # it can here create png "
      ],
      "execution_count": null,
      "outputs": [
        {
          "output_type": "stream",
          "text": [
            "Executing: lilypond -fpng -o \"Users\\my_first_bar\" \"Users\\my_first_bar.ly\"\n"
          ],
          "name": "stdout"
        },
        {
          "output_type": "execute_result",
          "data": {
            "text/plain": [
              "True"
            ]
          },
          "metadata": {
            "tags": []
          },
          "execution_count": 6
        }
      ]
    },
    {
      "cell_type": "markdown",
      "metadata": {
        "id": "TiyLQ99bRBPL"
      },
      "source": [
        "Problem to brak programu  w colabie lilypond ale spokojnie jest do zrobienia.\n",
        "\n",
        "mingus pozwala na generowanie z takiego ciagu zarowno midi jak i png.\n",
        "\n",
        "python-ly pozwala generowac music-xml z LilyPond stringow\n",
        "\n",
        "Wiec jesli zdecydujemy sie na zakres dzwiekow ktory chcemy miec w zbiorze moge zabrac sie za pisanie jakiegos generatora a potem \"filtrow\" na te png \n",
        "\n",
        "PRÓBAAAA"
      ]
    },
    {
      "cell_type": "code",
      "metadata": {
        "id": "YNg74YQQRToC"
      },
      "source": [
        "# Zabawy Janusza"
      ],
      "execution_count": null,
      "outputs": []
    },
    {
      "cell_type": "markdown",
      "metadata": {
        "id": "W6ICHFjpUI8P"
      },
      "source": [
        "## Generator LilyPondów"
      ]
    },
    {
      "cell_type": "code",
      "metadata": {
        "id": "l4jQ0LL8UI8Q"
      },
      "source": [
        "import mingus.core.notes as notes\n",
        "from mingus.containers import Note, NoteContainer, Bar, Track, Instrument\n",
        "import random\n",
        "import mingus.extra.lilypond as LilyPond"
      ],
      "execution_count": null,
      "outputs": []
    },
    {
      "cell_type": "code",
      "metadata": {
        "id": "-Y0upmgcUI8V"
      },
      "source": [
        "#stałe globalne\n",
        "\n",
        "allNotesM = [\"A-3\", \"B-3\", \"C-4\", \"D-4\",\"E-4\", \"F-4\", \"G-4\", \"A-4\", \"B-4\", \"C-5\", \"D-5\", \"E-5\", \"F-5\", \"G-5\", \"A-5\", \"B-5\", \"C-6\" ]\n",
        "lenAllNotesM = len(allNotesM)\n",
        "largestInterval = 4\n",
        "pOfChromatics=.05\n",
        "\n",
        "quarterGroupOptions16 = [[1],[1],[1],[1],[1],[1],[1],[1],[1],[1],[1],[1],[1],[1],[1],[1],[1],[.5,.5],[.5,.5],[.5,.5],[.5,.5],[.5,.5],[.5,.5], [.5, .5], [.25, .25, .5], [.5, .25, .25], [.25, .25, .25, .25]]\n",
        "quarterGroupOptions8 = [[1],[1],[1],[0.5,0.5]]\n",
        "bar4GroupOptions = [[4], [2,2], [2,1,1],[2,1,1],[1,1,2],[1,1,2],[1,1,1,1],[1,1,1,1]]\n",
        "bar3GroupOptions = [[2,1],[1,2],[1,1,1]]\n",
        "\n",
        "pOfRests=.1"
      ],
      "execution_count": null,
      "outputs": []
    },
    {
      "cell_type": "markdown",
      "metadata": {
        "id": "1K3mswCjUI8b"
      },
      "source": [
        "### Generowanie melodii"
      ]
    },
    {
      "cell_type": "code",
      "metadata": {
        "id": "1m4hiLlSUI8d"
      },
      "source": [
        "# jeśli before=-1 -> pierwsza nuta\n",
        "def newNoteIndexM(before):\n",
        "    if before==-1:\n",
        "        return random.randint(0,lenAllNotesM-1)\n",
        "    \n",
        "    if before<largestInterval:\n",
        "        return random.randint(0,2*largestInterval)\n",
        "    \n",
        "    if before>lenAllNotesM-largestInterval-1:\n",
        "        return random.randint(lenAllNotesM-2*largestInterval, lenAllNotesM-1)\n",
        "        \n",
        "    return random.randint(before-largestInterval,before+largestInterval-1)"
      ],
      "execution_count": null,
      "outputs": []
    },
    {
      "cell_type": "code",
      "metadata": {
        "id": "mIbf1cnKUI8i"
      },
      "source": [
        "# dla length>0\n",
        "def newNoteIndexListM(length):\n",
        "    prev = newNoteIndexM(-1)\n",
        "    melody = [prev]\n",
        "    for i in range(1,length):\n",
        "        prev = newNoteIndexM(prev)\n",
        "        melody.append(prev)\n",
        "    return melody"
      ],
      "execution_count": null,
      "outputs": []
    },
    {
      "cell_type": "code",
      "metadata": {
        "id": "ati1QBPXUI8l"
      },
      "source": [
        "def newMelodyWithoutChromatics(length):\n",
        "    return [Note(allNotesM[a]) for a in newNoteIndexListM(length)]"
      ],
      "execution_count": null,
      "outputs": []
    },
    {
      "cell_type": "code",
      "metadata": {
        "id": "I58-BcWlUI8p",
        "outputId": "48bb773b-8c77-43d6-f965-2e5423df9700"
      },
      "source": [
        "newMelodyWithoutChromatics(10)"
      ],
      "execution_count": null,
      "outputs": [
        {
          "output_type": "execute_result",
          "data": {
            "text/plain": [
              "['A-4', 'F-4', 'B-3', 'E-4', 'A-3', 'B-4', 'B-4', 'D-5', 'A-4', 'D-4']"
            ]
          },
          "metadata": {
            "tags": []
          },
          "execution_count": 12
        }
      ]
    },
    {
      "cell_type": "code",
      "metadata": {
        "id": "6Q2_FAAEUI84"
      },
      "source": [
        "def newMelody(length):\n",
        "    melody = []   \n",
        "    for index in newNoteIndexListM(length):\n",
        "        k = random.random()\n",
        "        note = Note(allNotesM[index])\n",
        "        if k<pOfChromatics:\n",
        "            note.augment()\n",
        "        elif k>1-pOfChromatics:\n",
        "            note.diminish()\n",
        "        melody.append(note)\n",
        "    return melody"
      ],
      "execution_count": null,
      "outputs": []
    },
    {
      "cell_type": "code",
      "metadata": {
        "id": "KVBlLodSUI89",
        "outputId": "69558f7b-e846-4240-b9c8-e2463b5aab8b"
      },
      "source": [
        "newMelody(10)"
      ],
      "execution_count": null,
      "outputs": [
        {
          "output_type": "execute_result",
          "data": {
            "text/plain": [
              "['F-5', 'B-4', 'E-5', 'A-5', 'B-5', 'Db-5', 'G-4', 'C-4', 'F-4', 'E-4']"
            ]
          },
          "metadata": {
            "tags": []
          },
          "execution_count": 14
        }
      ]
    },
    {
      "cell_type": "markdown",
      "metadata": {
        "id": "ESKPPrltUI9D"
      },
      "source": [
        "### Generowanie rytmu"
      ]
    },
    {
      "cell_type": "code",
      "metadata": {
        "id": "67J2zM9-UI9D"
      },
      "source": [
        "def newQuarterGroup(with16):\n",
        "    if with16:\n",
        "        return random.choice(quarterGroupOptions16)\n",
        "    else:\n",
        "        return random.choice(quarterGroupOptions8)"
      ],
      "execution_count": null,
      "outputs": []
    },
    {
      "cell_type": "code",
      "metadata": {
        "id": "LOrr9toTUI9J",
        "outputId": "cc98aa7e-1a51-48c1-e985-25010afcdcf1"
      },
      "source": [
        "newQuarterGroup(True)"
      ],
      "execution_count": null,
      "outputs": [
        {
          "output_type": "execute_result",
          "data": {
            "text/plain": [
              "[0.5, 0.5]"
            ]
          },
          "metadata": {
            "tags": []
          },
          "execution_count": 16
        }
      ]
    },
    {
      "cell_type": "code",
      "metadata": {
        "id": "ldpGM5n_UI9N"
      },
      "source": [
        "def newBarRhythm(beats,with16):\n",
        "    finalRhythm=[]\n",
        "    if beats==4:\n",
        "        rhythm = random.choice(bar4GroupOptions)\n",
        "    if beats==3:\n",
        "        rhythm = random.choice(bar3GroupOptions)\n",
        "    \n",
        "    for ii in range(len(rhythm)):\n",
        "        if rhythm[ii]==1:\n",
        "            finalRhythm.extend(newQuarterGroup(with16))\n",
        "        else:\n",
        "            finalRhythm.append(rhythm[ii])\n",
        "    return finalRhythm"
      ],
      "execution_count": null,
      "outputs": []
    },
    {
      "cell_type": "code",
      "metadata": {
        "id": "VHeAqa7hUI9Q",
        "outputId": "332e90d7-a804-4e12-9d6d-c43d06db6205"
      },
      "source": [
        "print('4/4 Bar: ', newBarRhythm(4,True))\n",
        "print('3/4 Bar: ', newBarRhythm(3,False))"
      ],
      "execution_count": null,
      "outputs": [
        {
          "output_type": "stream",
          "text": [
            "4/4 Bar:  [2, 1, 1]\n",
            "3/4 Bar:  [1, 1, 1]\n"
          ],
          "name": "stdout"
        }
      ]
    },
    {
      "cell_type": "markdown",
      "metadata": {
        "id": "KSpd-AjVUI9V"
      },
      "source": [
        "### Generowanie ścieżki"
      ]
    },
    {
      "cell_type": "code",
      "metadata": {
        "id": "KxkcBmsPUI9V"
      },
      "source": [
        "# NewTrack(liczba_uderzeń_w_takcie, liczba_taktów, czy_z_chromatyką, czy_z_16)\n",
        "def NewTrack(beats,count,withChromatics,with16):\n",
        "    track=Track(Instrument())\n",
        "    rhythms=[]\n",
        "    noOfNotes=0\n",
        "    melodyCount=0\n",
        "    \n",
        "    for ii in range(count):\n",
        "        rhythms.append(newBarRhythm(beats,with16))\n",
        "        noOfNotes+=len(rhythms[ii])\n",
        "    \n",
        "    if withChromatics:\n",
        "        melody = newMelody(noOfNotes)\n",
        "    else:\n",
        "        melody = newMelodyWithoutChromatics(noOfNotes)\n",
        "    \n",
        "    for rhythm in rhythms:\n",
        "        b = Bar('C',(beats,4))\n",
        "        for note in rhythm:\n",
        "            k=random.random()\n",
        "            if k>pOfRests:\n",
        "                b.place_notes(melody[melodyCount], 4/note)\n",
        "            else:\n",
        "                b.place_notes(None, 4/note)\n",
        "            melodyCount+=1\n",
        "        track+b\n",
        "    return track"
      ],
      "execution_count": null,
      "outputs": []
    },
    {
      "cell_type": "code",
      "metadata": {
        "id": "pfb6xIDlUI9Z",
        "outputId": "379ed79f-c01a-4c08-b548-2b80274cc283"
      },
      "source": [
        "NewTrack(4,10,True,True)"
      ],
      "execution_count": null,
      "outputs": [
        {
          "output_type": "execute_result",
          "data": {
            "text/plain": [
              "[Instrument ['C-0' - 'C-8'], [[[0.0, 1.0, ['F-4']]], [[0.0, 2.0, ['A-4']], [0.5, 2.0, ['D-5']]], [[0.0, 8.0, ['D-5']], [0.125, 8.0, ['G-5']], [0.25, 8.0, ['A-5']], [0.375, 8.0, ['B-5']], [0.5, 2.0, ['D-5']]], [[0.0, 8.0, ['B-4']], [0.125, 8.0, ['F-4']], [0.25, 4.0, ['Cb-4']], [0.5, 2.0, None]], [[0.0, 8.0, ['B#-4']], [0.125, 16.0, ['E-4']], [0.1875, 16.0, ['C-4']], [0.25, 8.0, ['E-4']], [0.375, 8.0, ['E-4']], [0.5, 2.0, ['C-4']]], [[0.0, 2.0, ['D-4']], [0.5, 2.0, ['B-4']]], [[0.0, 1.0, ['D-5']]], [[0.0, 8.0, ['A-4']], [0.125, 8.0, ['Db-4']], [0.25, 16.0, None], [0.3125, 16.0, ['Gb-4']], [0.375, 8.0, ['C-4']], [0.5, 8.0, ['B-3']], [0.625, 16.0, ['A-3']], [0.6875, 16.0, None], [0.75, 4.0, ['D-4']]], [[0.0, 4.0, ['Bb-3']], [0.25, 4.0, ['A-4']], [0.5, 2.0, None]], [[0.0, 4.0, ['E-5']], [0.25, 8.0, None], [0.375, 8.0, ['A-5']], [0.5, 4.0, ['E-5']], [0.75, 8.0, ['F-5']], [0.875, 16.0, ['D-5']], [0.9375, 16.0, ['B-4']]]]]"
            ]
          },
          "metadata": {
            "tags": []
          },
          "execution_count": 20
        }
      ]
    },
    {
      "cell_type": "markdown",
      "metadata": {
        "id": "f0bsjf5PUI9c"
      },
      "source": [
        "### Generowanie notacji w formacie LilyPond"
      ]
    },
    {
      "cell_type": "code",
      "metadata": {
        "id": "df-hsCFpUI9d",
        "outputId": "84427530-4aaa-4dd5-c2ea-71279edda40e"
      },
      "source": [
        "track = NewTrack(4,6,False,False)\n",
        "lp = LilyPond.from_Track(track)\n",
        "print(lp)"
      ],
      "execution_count": null,
      "outputs": [
        {
          "output_type": "stream",
          "text": [
            "{ { b''8 f''8 a''4 a''4 e''4 } { r2 a''2 } { f''4 a''4 c''4 a'4 } { r4 f'4 a'4 e'8 b8 } { g'2 f'8 d'8 b'4 } { a'4 d''4 e''2 } }\n"
          ],
          "name": "stdout"
        }
      ]
    },
    {
      "cell_type": "markdown",
      "metadata": {
        "id": "fXFWV0IYUI9g"
      },
      "source": [
        "## No clef or time in the picture"
      ]
    },
    {
      "cell_type": "code",
      "metadata": {
        "id": "aeF4RxSQUI9h"
      },
      "source": [
        "delete_clef_string = \" \\n \\override Staff.Clef.color = #white \\n \\override Staff.Clef.layer = #-1\"\n",
        "delete_time_string = \" \\n \\override Staff.TimeSignature.color = #white \\n \\override Staff.TimeSignature.layer = #-1\"\n",
        "\n",
        "def CleanTrack(track):\n",
        "    track = track[0] + delete_clef_string + delete_time_string+ track[1:]\n",
        "    return track"
      ],
      "execution_count": null,
      "outputs": []
    },
    {
      "cell_type": "markdown",
      "metadata": {
        "id": "ABvh0Rz8UI9l"
      },
      "source": [
        "## Generate Cropped png"
      ]
    },
    {
      "cell_type": "code",
      "metadata": {
        "id": "EGGFnqcaUI9m"
      },
      "source": [
        "import subprocess\n",
        "import os\n",
        "\n",
        "def GenerateCropped(ly_string, filename, command='-fpng'):\n",
        "    \"\"\"Generates cropped PNG it is slightly changed version of minugs save_string_and_execute_LilyPond function\"\"\"\n",
        "    ly_string = '\\\\version \"2.10.33\"\\n' + ly_string\n",
        "    if filename[-4] in ['.pdf' or '.png']:\n",
        "        filename = filename[:-4]\n",
        "    try:\n",
        "        f = open(filename + '.ly', 'w')\n",
        "        f.write(ly_string)\n",
        "        f.close()\n",
        "    except:\n",
        "        return False\n",
        "    command = 'lilypond -dpreview %s -o \"%s\" \"%s.ly\"' % (command, filename, filename)\n",
        "    print('Executing: %s' % command)\n",
        "    p = subprocess.Popen(command, shell=True).wait()\n",
        "    os.remove(filename + '.ly')\n",
        "    return True"
      ],
      "execution_count": null,
      "outputs": []
    },
    {
      "cell_type": "code",
      "metadata": {
        "id": "rqSH6GZtUI9p",
        "outputId": "e51df047-9fb9-4842-d2a2-430db1f98a8f"
      },
      "source": [
        "track = NewTrack(4,6,False,False)\n",
        "lp = LilyPond.from_Track(track)\n",
        "print(lp)\n",
        "c_track = CleanTrack(lp)"
      ],
      "execution_count": null,
      "outputs": [
        {
          "output_type": "stream",
          "text": [
            "{ { e''2 e''2 } { b'1 } { f'2 g'2 } { a'4 b'4 e''4 c''4 } { g'2 b'4 e''4 } { a'4 e'4 f'8 c'8 c'4 } }\n"
          ],
          "name": "stdout"
        }
      ]
    },
    {
      "cell_type": "code",
      "metadata": {
        "id": "l2spWU2tUI9t",
        "outputId": "2bca2e54-48c4-4c14-b7a5-95b3a2e4a082"
      },
      "source": [
        "GenerateCropped(c_track,\"my_first_track\")"
      ],
      "execution_count": null,
      "outputs": [
        {
          "output_type": "stream",
          "text": [
            "Executing: lilypond -dpreview -fpng -o \"my_first_track\" \"my_first_track.ly\"\n"
          ],
          "name": "stdout"
        },
        {
          "output_type": "execute_result",
          "data": {
            "text/plain": [
              "True"
            ]
          },
          "metadata": {
            "tags": []
          },
          "execution_count": 32
        }
      ]
    },
    {
      "cell_type": "markdown",
      "metadata": {
        "id": "evXLvJZHUI9y"
      },
      "source": [
        "## Convert to jpg"
      ]
    },
    {
      "cell_type": "code",
      "metadata": {
        "id": "COVTv8T_UI9y"
      },
      "source": [
        "from PIL import Image\n",
        "\n",
        "def imgConvert(from_name, to_name):\n",
        "    im = Image.open(from_name)\n",
        "    rgb_im = im.convert('RGB')\n",
        "    rgb_im.save(to_name)"
      ],
      "execution_count": null,
      "outputs": []
    },
    {
      "cell_type": "code",
      "metadata": {
        "id": "rw-K2jCOUI92"
      },
      "source": [
        "imgConvert(\"my_first_track.preview.png\", \"track.jpg\")"
      ],
      "execution_count": null,
      "outputs": []
    },
    {
      "cell_type": "markdown",
      "metadata": {
        "id": "SiIwVVtuUI96"
      },
      "source": [
        "## Transformations"
      ]
    },
    {
      "cell_type": "code",
      "metadata": {
        "id": "At66qELEUI96"
      },
      "source": [
        "from functools import reduce\n",
        "import numpy as np\n",
        "import cv2\n",
        "import matplotlib.pyplot as plt\n",
        "%matplotlib inline"
      ],
      "execution_count": null,
      "outputs": []
    },
    {
      "cell_type": "code",
      "metadata": {
        "id": "ot-zY9DgUI99"
      },
      "source": [
        "# Construct 3D rotation matrix when rotations around x,y,z axes are specified \n",
        "def construct_RotationMatrixHomogenous(rotation_angles):\n",
        "    assert(type(rotation_angles)==list and len(rotation_angles)==3)\n",
        "    RH = np.eye(4,4)\n",
        "    cv2.Rodrigues(np.array(rotation_angles), RH[0:3, 0:3])\n",
        "    return RH"
      ],
      "execution_count": null,
      "outputs": []
    },
    {
      "cell_type": "code",
      "metadata": {
        "id": "DrazkXTzUI-A"
      },
      "source": [
        "# https://en.wikipedia.org/wiki/Rotation_matrix\n",
        "def getRotationMatrixManual(rotation_angles):\n",
        "    \n",
        "    rotation_angles = [ np.deg2rad(x) for x in rotation_angles]\n",
        "    \n",
        "    phi         = rotation_angles[0] # around x\n",
        "    gamma       = rotation_angles[1] # around y\n",
        "    theta       = rotation_angles[2] # around z\n",
        "    \n",
        "    # X rotation\n",
        "    Rphi        = np.eye(4,4)\n",
        "    sp          = np.sin(phi)\n",
        "    cp          = np.cos(phi)\n",
        "    Rphi[1,1]   = cp\n",
        "    Rphi[2,2]   = Rphi[1,1]\n",
        "    Rphi[1,2]   = -sp\n",
        "    Rphi[2,1]   = sp\n",
        "    \n",
        "    # Y rotation\n",
        "    Rgamma        = np.eye(4,4)\n",
        "    sg            = np.sin(gamma)\n",
        "    cg            = np.cos(gamma)\n",
        "    Rgamma[0,0]   = cg\n",
        "    Rgamma[2,2]   = Rgamma[0,0]\n",
        "    Rgamma[0,2]   = sg\n",
        "    Rgamma[2,0]   = -sg\n",
        "    \n",
        "    # Z rotation (in-image-plane)\n",
        "    Rtheta      = np.eye(4,4)\n",
        "    st          = np.sin(theta)\n",
        "    ct          = np.cos(theta)\n",
        "    Rtheta[0,0] = ct\n",
        "    Rtheta[1,1] = Rtheta[0,0]\n",
        "    Rtheta[0,1] = -st\n",
        "    Rtheta[1,0] = st\n",
        "    \n",
        "    R           = reduce(lambda x,y : np.matmul(x,y), [Rphi, Rgamma, Rtheta]) \n",
        "    \n",
        "    return R"
      ],
      "execution_count": null,
      "outputs": []
    },
    {
      "cell_type": "code",
      "metadata": {
        "id": "rqVade0OUI-C"
      },
      "source": [
        "def getPoints_for_PerspectiveTranformEstimation(ptsIn, ptsOut, W, H, sidelength):\n",
        "    \n",
        "    ptsIn2D      =  ptsIn[0,:]\n",
        "    ptsOut2D     =  ptsOut[0,:]\n",
        "    ptsOut2Dlist =  []\n",
        "    ptsIn2Dlist  =  []\n",
        "    \n",
        "    for i in range(0,4):\n",
        "        ptsOut2Dlist.append([ptsOut2D[i,0], ptsOut2D[i,1]])\n",
        "        ptsIn2Dlist.append([ptsIn2D[i,0], ptsIn2D[i,1]])\n",
        "    \n",
        "    pin  =  np.array(ptsIn2Dlist)   +  [W/2.,H/2.]\n",
        "    pout = (np.array(ptsOut2Dlist)  +  [1.,1.]) * (0.5*sidelength)\n",
        "    pin  = pin.astype(np.float32)\n",
        "    pout = pout.astype(np.float32)\n",
        "    \n",
        "    return pin, pout"
      ],
      "execution_count": null,
      "outputs": []
    },
    {
      "cell_type": "code",
      "metadata": {
        "id": "936QgCXmUI-E"
      },
      "source": [
        "def warpMatrix(W, H, theta, phi, gamma, scale, fV):\n",
        "    \n",
        "    # M is to be estimated\n",
        "    M          = np.eye(4, 4)\n",
        "    \n",
        "    fVhalf     = np.deg2rad(fV/2.)\n",
        "    d          = np.sqrt(W*W+H*H)\n",
        "    sideLength = scale*d/np.cos(fVhalf)\n",
        "    h          = d/(2.0*np.sin(fVhalf))\n",
        "    n          = h-(d/2.0);\n",
        "    f          = h+(d/2.0);\n",
        "    \n",
        "    # Translation along Z-axis by -h\n",
        "    T       = np.eye(4,4)\n",
        "    T[2,3]  = -h\n",
        "    \n",
        "    # Rotation matrices around x,y,z\n",
        "    R = getRotationMatrixManual([phi, gamma, theta])\n",
        "    \n",
        "    \n",
        "    # Projection Matrix \n",
        "    P       = np.eye(4,4)\n",
        "    P[0,0]  = 1.0/np.tan(fVhalf)\n",
        "    P[1,1]  = P[0,0]\n",
        "    P[2,2]  = -(f+n)/(f-n)\n",
        "    P[2,3]  = -(2.0*f*n)/(f-n)\n",
        "    P[3,2]  = -1.0\n",
        "    \n",
        "    # pythonic matrix multiplication\n",
        "    F       = reduce(lambda x,y : np.matmul(x,y), [P, T, R]) \n",
        "    \n",
        "    # shape should be 1,4,3 for ptsIn and ptsOut since perspectiveTransform() expects data in this way. \n",
        "    # In C++, this can be achieved by Mat ptsIn(1,4,CV_64FC3);\n",
        "#    ptsIn = np.array([[\n",
        "#                 [-W/2., H/2., 0.],[ W/2., H/2., 0.],[ W/2.,-H/2., 0.],[-W/2.,-H/2., 0.]\n",
        "#                 ]])\n",
        "    ptsIn = np.array([[\n",
        "                 [-W/2., -H/2., 0.],[ W/2., -H/2., 0.],[ -W/2.,H/2., 0.],[W/2.,H/2., 0.]\n",
        "                 ]])\n",
        "    ptsOut  = np.array(np.zeros((ptsIn.shape), dtype=ptsIn.dtype))\n",
        "    ptsOut  = cv2.perspectiveTransform(ptsIn, F)\n",
        "    \n",
        "    ptsInPt2f, ptsOutPt2f = getPoints_for_PerspectiveTranformEstimation(ptsIn, ptsOut, W, H, sideLength)\n",
        "    # check float32 otherwise OpenCV throws an error\n",
        "    assert(ptsInPt2f.dtype  == np.float32)\n",
        "    assert(ptsOutPt2f.dtype == np.float32)\n",
        "    M33 = cv2.getPerspectiveTransform(ptsInPt2f,ptsOutPt2f)\n",
        "\n",
        "    return M33, sideLength, ptsInPt2f, ptsOutPt2f"
      ],
      "execution_count": null,
      "outputs": []
    },
    {
      "cell_type": "code",
      "metadata": {
        "id": "Mf2s3nGKUI-H"
      },
      "source": [
        "def warpImage(src,theta, phi,gamma,scale,fovy,corners=None):\n",
        "    H,W,Nc    = src.shape\n",
        "    M,sl,ptsIn, ptsOut      = warpMatrix(W,H, theta,phi,gamma, scale,fovy);          #Compute warp matrix\n",
        "    sl = int(sl)\n",
        "    #print('Output image dimension = {}'.format(sl))\n",
        "    dst = cv2.warpPerspective(src,M, (sl,sl),borderValue=[255,255,255]); #Do actual image warp\n",
        "    print(ptsIn, '\\n', ptsOut)\n",
        "    left_right_margin = random.uniform(2,50)\n",
        "    top_bot_margin = random.uniform(2,50)\n",
        "    left_upper = [min([x[0] for x in ptsOut]),min([x[1] for x in ptsOut])]\n",
        "    right_lower = [max([x[0] for x in ptsOut]),max([x[1] for x in ptsOut])]\n",
        "    left_upper[0] = int(max(left_upper[0]-left_right_margin,0))\n",
        "    left_upper[1] = int(max(left_upper[1]-top_bot_margin,0))\n",
        "    right_lower[0] = int(min(right_lower[0]+left_right_margin,sl-1))\n",
        "    right_lower[1] = int(min(right_lower[1]+top_bot_margin,sl-1))\n",
        "    return dst[left_upper[1]:right_lower[1],left_upper[0]:right_lower[0]]"
      ],
      "execution_count": null,
      "outputs": []
    },
    {
      "cell_type": "code",
      "metadata": {
        "id": "Gw7z_j6sUI-K",
        "outputId": "f6ec2365-800e-4860-86b3-e2b02fb0cd3c"
      },
      "source": [
        "src   = cv2.imread('track.jpg')\n",
        "src    = src[...,::-1] # BGR to RGB\n",
        "H,W,Nc = src.shape\n",
        "plt.imshow(src)"
      ],
      "execution_count": null,
      "outputs": [
        {
          "output_type": "execute_result",
          "data": {
            "text/plain": [
              "<matplotlib.image.AxesImage at 0x7f327150f9d0>"
            ]
          },
          "metadata": {
            "tags": []
          },
          "execution_count": 241
        },
        {
          "output_type": "display_data",
          "data": {
            "image/png": "[encoded data removed]",
            "text/plain": [
              "<Figure size 432x288 with 1 Axes>"
            ]
          },
          "metadata": {
            "tags": [],
            "needs_background": "light"
          }
        }
      ]
    },
    {
      "cell_type": "code",
      "metadata": {
        "id": "GDSCaBQ6UI-M",
        "outputId": "44f52c8c-6708-4277-9dc6-4317c894380b"
      },
      "source": [
        "imgwarped = warpImage(src, 15, 0, 30, 1.,45)\n",
        "plt.imshow(imgwarped)\n",
        "from PIL import Image\n",
        "im = Image.fromarray(imgwarped)\n",
        "im.save(\"waped_track.jpg\")"
      ],
      "execution_count": null,
      "outputs": [
        {
          "output_type": "stream",
          "text": [
            "[[  0.   0.]\n",
            " [516.   0.]\n",
            " [  0.  53.]\n",
            " [516.  53.]] \n",
            " [[ 25.607574  168.44429  ]\n",
            " [467.01913   315.31866  ]\n",
            " [  7.8102074 230.04924  ]\n",
            " [458.5513    358.99014  ]]\n"
          ],
          "name": "stdout"
        },
        {
          "output_type": "display_data",
          "data": {
            "image/png": "[encoded data removed]",
            "text/plain": [
              "<Figure size 432x288 with 1 Axes>"
            ]
          },
          "metadata": {
            "tags": [],
            "needs_background": "light"
          }
        }
      ]
    },
    {
      "cell_type": "code",
      "metadata": {
        "id": "Xqn6e9dqUI-P"
      },
      "source": [
        "def randomWarpImage(src,x_range=15,y_range=15,z_range=15):\n",
        "    x_angle = int(random.uniform(-x_range,x_range))\n",
        "    y_angle = int(random.uniform(-y_range,y_range))\n",
        "    z_angle = int(random.uniform(-z_range,z_range))\n",
        "    fov = int(random.uniform(30,50))\n",
        "    warped_image = warpImage(src,x_angle,y_angle,z_angle,1,fov)\n",
        "    print(x_angle,y_angle,z_angle,1,fov)\n",
        "    return warped_image"
      ],
      "execution_count": null,
      "outputs": []
    },
    {
      "cell_type": "code",
      "metadata": {
        "id": "9rzaVAl8UI-S",
        "outputId": "3a136f90-216b-4e61-f41d-2bc46be1553f"
      },
      "source": [
        "imgwarped = randomWarpImage(src)\n",
        "plt.imshow(imgwarped)\n",
        "from PIL import Image\n",
        "im = Image.fromarray(imgwarped)\n",
        "im.save(\"waped_track.jpg\")"
      ],
      "execution_count": null,
      "outputs": [
        {
          "output_type": "stream",
          "text": [
            "[[  0.   0.]\n",
            " [516.   0.]\n",
            " [  0.  53.]\n",
            " [516.  53.]] \n",
            " [[ 24.418863 238.43336 ]\n",
            " [535.7408   278.08163 ]\n",
            " [ 18.932178 292.38416 ]\n",
            " [533.68585  329.4734  ]]\n",
            "4 4 4 1 49\n"
          ],
          "name": "stdout"
        },
        {
          "output_type": "display_data",
          "data": {
            "image/png": "[encoded data removed]",
            "text/plain": [
              "<Figure size 432x288 with 1 Axes>"
            ]
          },
          "metadata": {
            "tags": [],
            "needs_background": "light"
          }
        }
      ]
    },
    {
      "cell_type": "code",
      "metadata": {
        "id": "AsrgAWd5UI-V"
      },
      "source": [
        ""
      ],
      "execution_count": null,
      "outputs": []
    },
    {
      "cell_type": "code",
      "metadata": {
        "id": "zZ7HDYbyUI-X"
      },
      "source": [
        ""
      ],
      "execution_count": null,
      "outputs": []
    }
  ]
}