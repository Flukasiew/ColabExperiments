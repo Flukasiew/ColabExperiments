{
 "metadata": {
  "language_info": {
   "codemirror_mode": {
    "name": "ipython",
    "version": 3
   },
   "file_extension": ".py",
   "mimetype": "text/x-python",
   "name": "python",
   "nbconvert_exporter": "python",
   "pygments_lexer": "ipython3",
   "version": "3.8.3-final"
  },
  "orig_nbformat": 2,
  "kernelspec": {
   "name": "python3",
   "display_name": "Python 3"
  }
 },
 "nbformat": 4,
 "nbformat_minor": 2,
 "cells": [
  {
   "source": [
    "## Dostosowanie tonacji w stringu"
   ],
   "cell_type": "markdown",
   "metadata": {}
  },
  {
   "cell_type": "code",
   "execution_count": 16,
   "metadata": {},
   "outputs": [],
   "source": [
    "# lily - lilypond w formie stringu, key - oznaczenie tonacji, int w przedziale [-6;6]\n",
    "def ChangeLilypondKey(lily, key):\n",
    "    if key>0:\n",
    "        return ApplySharps(lily,key)\n",
    "    if key<0:\n",
    "        return ApplyFlats(lily,key)\n",
    "    return lily\n",
    "\n",
    "def ApplySharps(lily, key):\n",
    "    if key>=1:\n",
    "        lily = lily.replace(\"f\",\"fis\")\n",
    "    if key>=2:\n",
    "        lily = lily.replace(\"c\",\"cis\")\n",
    "    if key>=3:\n",
    "        lily = lily.replace(\"g\",\"gis\")\n",
    "    if key>=4:\n",
    "        lily = lily.replace(\"d\",\"dis\")\n",
    "    if key>=5:\n",
    "        lily = lily.replace(\"a\",\"ais\")\n",
    "    if key>=6:\n",
    "        lily = lily.replace(\"e\",\"eis\")\n",
    "    return lily\n",
    "\n",
    "def ApplyFlats(lily, key):\n",
    "    if key<=-1:\n",
    "        lily = lily.replace(\"b\",\"bes\")\n",
    "    if key<=-2:\n",
    "        lily = lily.replace(\" e\",\" ees\")\n",
    "    if key<=-3:\n",
    "        lily = lily.replace(\"a\",\"aes\")\n",
    "    if key<=-4:\n",
    "        lily = lily.replace(\"d\",\"des\")\n",
    "    if key<=-5:\n",
    "        lily = lily.replace(\"g\",\"ges\")\n",
    "    if key<=-6:\n",
    "        lily = lily.replace(\"c\",\"ces\")\n",
    "    return lily"
   ]
  },
  {
   "cell_type": "code",
   "execution_count": 15,
   "metadata": {},
   "outputs": [
    {
     "output_type": "stream",
     "name": "stdout",
     "text": [
      "Key +3: \n { { a8 fis'8 d'4 cis'4 a'4 } { g'8 g'8 b'8 e'8 d'2 } { fis'4 fis'8 d'8 e'4 e'4 } }\nKey -4: \n { { aes8 f'8 des'4 c'4 aes'4 } { g'8 g'8 bes'8 ees'8 des'2 } { f'4 f'8 des'8 ees'4 ees'4 } }\nKey 0: \n { { a8 f'8 d'4 c'4 a'4 } { g'8 g'8 b'8 e'8 d'2 } { f'4 f'8 d'8 e'4 e'4 } }\n"
     ]
    }
   ],
   "source": [
    "lp = \"{ { a8 f'8 d'4 c'4 a'4 } { g'8 g'8 b'8 e'8 d'2 } { f'4 f'8 d'8 e'4 e'4 } }\"\n",
    "\n",
    "print(\"Key +3: \\n\", ChangeLilypondKey(lp,2))\n",
    "print(\"Key -4: \\n\", ChangeLilypondKey(lp,-4))\n",
    "print(\"Key 0: \\n\", ChangeLilypondKey(lp,0))"
   ]
  }
 ]
}